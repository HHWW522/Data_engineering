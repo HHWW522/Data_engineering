{
 "cells": [
  {
   "cell_type": "code",
   "execution_count": 1,
   "id": "cb45436c-8ba1-4e17-9307-a62d80446575",
   "metadata": {},
   "outputs": [],
   "source": [
    "import numpy as np"
   ]
  },
  {
   "cell_type": "code",
   "execution_count": 2,
   "id": "f5286a61-7969-4622-a02e-dbaf0c786f5b",
   "metadata": {
    "tags": []
   },
   "outputs": [],
   "source": [
    "hairstyles = [\"bouffant\", \"pixie\", \"dreadlocks\", \"crew\", \"bowl\", \"bob\", \"mohawk\", \"flattop\"]\n",
    "prices = [30, 25, 40, 20, 20, 35, 50, 35]\n",
    "last_week = [2, 3, 5, 8, 4, 4, 6, 2]"
   ]
  },
  {
   "cell_type": "code",
   "execution_count": 3,
   "id": "e940a4aa-f330-414d-b198-72fe821c1d3b",
   "metadata": {},
   "outputs": [
    {
     "name": "stdout",
     "output_type": "stream",
     "text": [
      "255\n"
     ]
    }
   ],
   "source": [
    "total_price = 0\n",
    "total_price = sum(prices)\n",
    "print(total_price)"
   ]
  },
  {
   "cell_type": "code",
   "execution_count": 4,
   "id": "da2202c7-0aa6-4b6e-8e77-0d681d7fd6bc",
   "metadata": {},
   "outputs": [
    {
     "name": "stdout",
     "output_type": "stream",
     "text": [
      "Average price is 31.875\n"
     ]
    }
   ],
   "source": [
    "average_price = total_price/len(prices)\n",
    "print ('Average price is' , average_price)"
   ]
  },
  {
   "cell_type": "code",
   "execution_count": 5,
   "id": "e393a52f-aa1a-4725-97eb-17639594e8c8",
   "metadata": {},
   "outputs": [
    {
     "name": "stdout",
     "output_type": "stream",
     "text": [
      "[25, 20, 35, 15, 15, 30, 45, 30]\n"
     ]
    }
   ],
   "source": [
    "new_prices = [prices - 5 for prices in prices]\n",
    "print (new_prices)"
   ]
  },
  {
   "cell_type": "code",
   "execution_count": 6,
   "id": "2b1e94bb-95d1-48ff-88d9-a790f996aed0",
   "metadata": {},
   "outputs": [
    {
     "name": "stdout",
     "output_type": "stream",
     "text": [
      "1085\n"
     ]
    }
   ],
   "source": [
    "total_revenue = 0\n",
    "for i in range(len(hairstyles)):\n",
    "    total_revenue += prices[i]*last_week[i]\n",
    "print (total_revenue)"
   ]
  },
  {
   "cell_type": "code",
   "execution_count": 7,
   "id": "96425b4d-a1b3-487d-9823-d72885c9fc94",
   "metadata": {},
   "outputs": [
    {
     "name": "stdout",
     "output_type": "stream",
     "text": [
      "Average daily revenue is 155.0\n"
     ]
    }
   ],
   "source": [
    "average_daily_revenue = total_revenue/7\n",
    "print('Average daily revenue is', average_daily_revenue)"
   ]
  },
  {
   "cell_type": "code",
   "execution_count": 8,
   "id": "e5816606-cfe3-4656-955d-f8dc51684d38",
   "metadata": {},
   "outputs": [
    {
     "name": "stdout",
     "output_type": "stream",
     "text": [
      "['bouffant', 'pixie', 'crew', 'bowl']\n"
     ]
    }
   ],
   "source": [
    "cuts_under_30 = [hairstyles[i] for i in range(len(new_prices)) \n",
    "                 if new_prices[i] < 30]\n",
    "print (cuts_under_30)"
   ]
  }
 ],
 "metadata": {
  "kernelspec": {
   "display_name": "Python 3 (ipykernel)",
   "language": "python",
   "name": "python3"
  },
  "language_info": {
   "codemirror_mode": {
    "name": "ipython",
    "version": 3
   },
   "file_extension": ".py",
   "mimetype": "text/x-python",
   "name": "python",
   "nbconvert_exporter": "python",
   "pygments_lexer": "ipython3",
   "version": "3.9.12"
  }
 },
 "nbformat": 4,
 "nbformat_minor": 5
}
